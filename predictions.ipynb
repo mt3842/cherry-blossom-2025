{
  "cells": [
    {
      "cell_type": "raw",
      "metadata": {},
      "source": [
        "---\n",
        "title: Cherry Blossom Peak Bloom Predictions\n",
        "author: Student\n",
        "date: 02/28/2025\n",
        "lang: en-US\n",
        "format: html\n",
        "---"
      ]
    },
    {
      "cell_type": "markdown",
      "metadata": {},
      "source": [
        "# Abstract\n",
        "\n",
        "This experiment attempts to forecast peak bloom dates by using a temperature-based time-series pattern matching technique. By using historical weather data and bloom observations, the method identifies analogous climate sequences from past years to project future bloom timings.\n",
        "\n",
        "The framework used is Fast Dynamic Time Warping (FastDTW), which compares recent temperature patterns with historical patterns, determining the most probable position in the bloom cycle. The dataset consists of daily temperature records for many years, formatted to represent the cycles of dormancy and bloom. To improve predictive accuracy, we introduce derived features including cumulative degree days, rolling temperature sums, and sum of squares of temperature values, and more.\n",
        "\n",
        "When testing the model, partial temperature sequences from historical bloom years are selected and compared in alignment to actual bloom dates. By iteratively sliding time windows over historical records, we can evaluate how closely predicted bloom dates match observed events through minimizng the Euclidean norm. \n",
        "\n",
        "Despite the many limitations in this design, it may prove beneficial to track bloom dates in terms of cyles and patterns. This tool of sliding windows to find patterns in the data can allow us to forecast any time-series datasets.\n",
        "\n",
        "# Introduction\n",
        "\n",
        "This project aims to predict Cherry Blossom peak bloom dates (PBD) for 2025 at 5 locations around the world. Historical data on Cherry Blossom PBD was used to model bloom cycles, where the beginning of the cycle represents one day after previous PBD, and the final day represents the current PBD. These cycles are compared to one another, mapping similar trends on functions of temperature. In particular, the days leading up to the bloom were closely analyzed, allowing us to theoretically input a slice of current temperature data in order to predict how far along the cycle we are, thus generating an estimate for the future PBD. \n",
        "\n",
        "\n",
        "# Setup\n",
        "\n",
        "This project uses python and related packages. Please ensure python is installed, as well as all other dependencies listed below:"
      ]
    },
    {
      "cell_type": "code",
      "execution_count": null,
      "metadata": {
        "vscode": {
          "languageId": "python"
        }
      },
      "outputs": [],
      "source": [
        "import pandas as pd \n",
        "import numpy as np \n",
        "import datetime as dt\n",
        "import matplotlib.pyplot as plt\n",
        "from fastdtw import fastdtw\n",
        "import warnings\n",
        "warnings.filterwarnings('ignore')"
      ]
    },
    {
      "cell_type": "code",
      "execution_count": null,
      "metadata": {
        "vscode": {
          "languageId": "python"
        }
      },
      "outputs": [],
      "source": [
        "# Import Bloom Datasets\n",
        "washingtondc = pd.read_csv('data/washingtondc.csv')\n",
        "liestal = pd.read_csv('data/liestal.csv')\n",
        "kyoto = pd.read_csv('data/kyoto.csv')\n",
        "vancouver = pd.read_csv('data/vancouver.csv')\n",
        "newyorkcity = pd.read_csv('data/nyc.csv')"
      ]
    },
    {
      "cell_type": "code",
      "execution_count": null,
      "metadata": {
        "vscode": {
          "languageId": "python"
        }
      },
      "outputs": [],
      "source": [
        "# Create and engineer relevant features for Washington DC \n",
        "# Years not included (missing data): 2000 \n",
        "wdc_weather_df = pd.read_csv('data/wdc_weather1990_2024.csv')\n",
        "wdc_weather_df.reset_index(drop=True, inplace=True)\n",
        "wdc_weather_df['Date'] = pd.to_datetime(wdc_weather_df['Date'])\n",
        "wdc_weather_df.sort_values(by='Date',inplace=True)\n",
        "wdc_weather_df.drop(columns=['index'], inplace=True)\n",
        "wdc_weather_df"
      ]
    },
    {
      "cell_type": "code",
      "execution_count": null,
      "metadata": {
        "vscode": {
          "languageId": "python"
        }
      },
      "outputs": [],
      "source": [
        "wdc_bloomdates_df = pd.DataFrame(washingtondc)\n",
        "wdc_bloomdates_df = wdc_bloomdates_df[wdc_bloomdates_df['year'] >= 1990]\n",
        "wdc_bloomdates_df = wdc_bloomdates_df.drop(wdc_bloomdates_df[wdc_bloomdates_df['year'] == 2000].index)\n",
        "wdc_bloomdates_df['bloom_date'] = pd.to_datetime(wdc_bloomdates_df['bloom_date'])\n",
        "wdc_bloomdates_df.reset_index(drop=True, inplace=True)\n",
        "wdc_bloomdates_df"
      ]
    },
    {
      "cell_type": "markdown",
      "metadata": {},
      "source": [
        "Now we have two dataframes:\n",
        "\n",
        "wdc_weather_df, daily weather data \n",
        "wdc_bloomdates_df, with bloom dates for each year\n",
        "\n",
        "Since we want to compare a bloom cycle, i.e from dormancy to bloom, we will count each year's \n",
        "bloom as starting from the day after the previous bloom and ending with the current bloom.\n",
        "\n",
        "temp_of_day_from_bloom_df: \n",
        "\n",
        "- rows: day of bloom (1 denotes first day after previous bloom) \n",
        "- column: cycle (year)\n",
        "\n",
        "For example, if the column name is 1992_b, this means that this column the days leading up to the bloom\n",
        "in 1992. Thus the first row will take place in 1991, after the previous bloom 1991_b. The last value, prior\n",
        "to any NaN, is the bloom date. \n",
        "\n",
        "Each column represents one cycle, from post-bloom dormancy to the next bloom.\n",
        "\n",
        "We will also take the inverse of the dataframe, and call it temp_of_day_till_bloom_df:\n",
        "\n",
        "- rows: day till bloom (1 denotes one day prior to the current bloom, and 0 be the bloom itself.)\n",
        "- column: cycle (year)\n"
      ]
    },
    {
      "cell_type": "code",
      "execution_count": null,
      "metadata": {
        "vscode": {
          "languageId": "python"
        }
      },
      "outputs": [],
      "source": [
        "bloom_dates = wdc_bloomdates_df['bloom_date']\n",
        "temp_of_day_from_bloom_df = pd.DataFrame() \n",
        "\n",
        "for i in range(len(bloom_dates) - 1):\n",
        "    data = wdc_weather_df[(wdc_weather_df['Date'] > bloom_dates[i]) & (wdc_weather_df['Date'] <= bloom_dates[i+1])]\n",
        "    data.reset_index(drop=True, inplace=True)\n",
        "    data[\"day_from_bloom\"] = data.index + 1\n",
        "    pivot_df = data.pivot_table(index='day_from_bloom', values='Temp_avg')\n",
        "    pivot_df.columns=[str(bloom_dates[i+1].year)+'_b']\n",
        "    temp_of_day_from_bloom_df = pd.concat([temp_of_day_from_bloom_df, pivot_df], axis=1)\n",
        "\n",
        "temp_of_day_till_bloom_df = pd.DataFrame()\n",
        "inv_temp_of_day_from_bloom_df = temp_of_day_from_bloom_df.iloc[::-1]\n",
        "\n",
        "for col in inv_temp_of_day_from_bloom_df.columns:\n",
        "    nan_count = inv_temp_of_day_from_bloom_df[col].isna().sum()\n",
        "\n",
        "    # Remove NaN\n",
        "    temp_of_day_till_bloom_df[col] = inv_temp_of_day_from_bloom_df[col].iloc[nan_count:].reset_index(drop=True)\n",
        "\n",
        "temp_of_day_till_bloom_df = temp_of_day_till_bloom_df.head(330)\n",
        "temp_of_day_till_bloom_df['days_till_bloom'] = temp_of_day_till_bloom_df.index\n",
        "temp_of_day_till_bloom_df"
      ]
    },
    {
      "cell_type": "markdown",
      "metadata": {},
      "source": [
        "Now, let's add some more complicated features onto the dataframe. We will look at functions of temperature, as it is theorized that bloom cycles occur after certain thresholds of temperature are met. The following functions were used as features:\n",
        "\n",
        "All data is created and stored in the new dataframe, df.\n",
        "\n",
        "Each feature name begins with the year of bloom, followed by the following suffix. For example, the 1991 bloom cycle will have the features:\n",
        "\n",
        "- 1991_b : daily average Temperature\n",
        "- 1991_b_sum_sq : sum of squared daily temperature, rolling over last 21 days \n",
        "- 1991_b_sum_log : sum of log daily temperature, rolling over last 21 days\n",
        "\n",
        "... and so on. Below are definitions of all features\n",
        "\n",
        "| Feature     | 10      |\n",
        "|------|-------------|\n",
        "| _sum_sq    | sum of squared daily temperature, rolling over last 21 days     |\n",
        "| _sum_log   | sum of log daily temperature, rolling over last 21 days     |\n",
        "| _sum_dd32  | sum of number of days where temperature exceeds 32 F, rolling over last 21 days     |\n",
        "| _sum_dd50  | sum of number of days where temperature exceeds 50 F, rolling over last 21 days     | \n",
        "| _sum_last14    | sum of daily temperature, rolling over last 14 days     |\n",
        "| _norm_dd_32   | sum of days where days above 32F are (+1) and days below are (-1), rolling over last 21 days     |\n",
        "| _norm_dd_50  |  sum of days where days above 50F are (+1) and days below are (-1), rolling over last 21 days     |\n",
        "| _rolling_freeze  | sum of number of days where temperature is below 32 F, rolling over last 21 days      | \n",
        "| _rolling_chill  | sum of number of days where temperature is between 32 F and 50 F, rolling over last 21 days     | \n",
        "| _rolling_temp_change  | temperature change between last 7 days     | \n"
      ]
    },
    {
      "cell_type": "code",
      "execution_count": null,
      "metadata": {
        "vscode": {
          "languageId": "python"
        }
      },
      "outputs": [],
      "source": [
        "df = temp_of_day_till_bloom_df.copy()\n",
        "\n",
        "# Functions of temperature for each bloom cycle\n",
        "for col in df.columns:\n",
        "    if col.endswith('_b'):\n",
        "        df[f'{col}_sum_sq'] = df[col][::-1].pow(2).rolling(window=21, min_periods=1).sum()[::-1]\n",
        "        df[f'{col}_sum_log'] = df[col][::-1].apply(lambda x: np.log(x + 1)).rolling(window=21, min_periods=1).sum()[::-1]\n",
        "        df[f'{col}_sum_dd32'] = (df[col][::-1] > 32).rolling(window=21, min_periods=1).sum()[::-1]\n",
        "        df[f'{col}_sum_dd50'] = (df[col][::-1] > 50).rolling(window=21, min_periods=1).sum()[::-1]\n",
        "        df[f'{col}_sum_last14'] = df[col][::-1].rolling(window=14, min_periods=1).sum()[::-1]\n",
        "        df[f'{col}_norm_dd_32'] = ((df[col] > 32).astype(int) * 1 + (df[col] <= 32).astype(int) * -1).rolling(window=21, min_periods=1).sum()[::-1]\n",
        "        df[f'{col}_norm_dd_50'] = ((df[col] > 50).astype(int) * 1 + (df[col] <= 50).astype(int) * -1).rolling(window=21, min_periods=1).sum()[::-1]\n",
        "        df[f'{col}_rolling_freeze'] = (df[col][::-1] < 32).rolling(window=21, min_periods=1).sum()[::-1]\n",
        "        df[f'{col}_rolling_chill'] = ((df[col][::-1] >= 32) & (df[col][::-1] < 50)).rolling(window=21, min_periods=1).sum()[::-1]\n",
        "        df[f'{col}_rolling_temp_change'] = df[col][::-1].diff(periods=7)[::-1]\n",
        "\n",
        "cols = ['days_till_bloom'] + [c for c in df.columns if c != 'days_till_bloom']\n",
        "df = df[cols]\n",
        "df = df.head(80)\n",
        "df"
      ]
    },
    {
      "cell_type": "markdown",
      "metadata": {},
      "source": [
        "Let's see what our data looks like.\n"
      ]
    },
    {
      "cell_type": "code",
      "execution_count": null,
      "metadata": {
        "vscode": {
          "languageId": "python"
        }
      },
      "outputs": [],
      "source": [
        "# Show raw data\n",
        "\n",
        "plt.figure(figsize=(10, 10))\n",
        "\n",
        "for year in temp_of_day_from_bloom_df.columns:\n",
        "    bloom_cycle = df[year]\n",
        "    plt.plot(bloom_cycle.index, bloom_cycle.values, label=str(year))\n",
        "\n",
        "plt.xlabel('Number of Days Till Bloom')\n",
        "plt.ylabel('Temperature in F')\n",
        "plt.title('Temperature Over Bloom Cycles')\n",
        "plt.legend(title=\"Year\", bbox_to_anchor=(1, 1), loc='upper left')\n",
        "plt.show()"
      ]
    },
    {
      "cell_type": "code",
      "execution_count": null,
      "metadata": {
        "vscode": {
          "languageId": "python"
        }
      },
      "outputs": [],
      "source": [
        "window = 7\n",
        "\n",
        "plt.figure(figsize=(10, 10))  \n",
        "\n",
        "for year in temp_of_day_from_bloom_df.columns:\n",
        "    bloom_cycle = df[year]\n",
        "    smoothed = bloom_cycle.rolling(window=window).mean()  \n",
        "    plt.plot(smoothed.index, smoothed.values, label=str(year))\n",
        "\n",
        "plt.xlabel('Number of Days Till Bloom')\n",
        "plt.ylabel('Temperature (Temp Avg), in F')\n",
        "plt.title('Smoothed Temperature Change Over Bloom Cycles')\n",
        "plt.legend(title=\"Year\", bbox_to_anchor=(1.05, 1), loc='upper left')\n",
        "\n",
        "plt.tight_layout()\n",
        "plt.show()"
      ]
    },
    {
      "cell_type": "markdown",
      "metadata": {},
      "source": [
        "Looking at continuous functions of temperature:"
      ]
    },
    {
      "cell_type": "code",
      "execution_count": null,
      "metadata": {
        "vscode": {
          "languageId": "python"
        }
      },
      "outputs": [],
      "source": [
        "feature_suffixes_cont = ['_sum_sq', '_sum_log', '_sum_last14', '_rolling_temp_change']\n",
        "for suffix in feature_suffixes_cont:\n",
        "    cv = df[[col for col in df.columns if col.endswith(suffix)]]\n",
        "    plt.figure(figsize=(10, 3)) \n",
        "    plt.xlabel('Number of Days Till Bloom')\n",
        "    plt.xticks(np.arange(0, 115, 5))\n",
        "    plt.title('Patterns of ' + suffix)\n",
        "    plt.ylabel(suffix)\n",
        "    for year in cv.columns:\n",
        "        bloom_cycle = df[year]\n",
        "        plt.plot(bloom_cycle.index,bloom_cycle.values)\n",
        "    plt.show()"
      ]
    },
    {
      "cell_type": "markdown",
      "metadata": {},
      "source": [
        "Now discrete functions of temperature:"
      ]
    },
    {
      "cell_type": "code",
      "execution_count": null,
      "metadata": {
        "vscode": {
          "languageId": "python"
        }
      },
      "outputs": [],
      "source": [
        "feature_suffixes_disc = ['_sum_dd32', '_sum_dd50','_norm_dd_32', '_norm_dd_50','_rolling_freeze', '_rolling_chill',]\n",
        "for suffix in feature_suffixes_disc:\n",
        "    cv = df[[col for col in df.columns if col.endswith(suffix)]]\n",
        "    plt.figure(figsize=(10, 3))\n",
        "    plt.xlabel('Number of Days Till Bloom')\n",
        "    plt.xticks(np.arange(0, 115, 5))\n",
        "    plt.title('Patterns of ' + suffix)\n",
        "    plt.ylabel(suffix)\n",
        "    for year in cv.columns:\n",
        "        bloom_cycle = df[year]\n",
        "        plt.plot(bloom_cycle.index,bloom_cycle.values,\n",
        "                 marker='o', linestyle='-', markersize=4, label=year\n",
        ")\n",
        "    plt.show()"
      ]
    },
    {
      "cell_type": "markdown",
      "metadata": {},
      "source": [
        "# Prediction\n",
        "\n",
        "Now let's define some methods that will help us experiment and predict on data. "
      ]
    },
    {
      "cell_type": "code",
      "execution_count": null,
      "metadata": {
        "vscode": {
          "languageId": "python"
        }
      },
      "outputs": [],
      "source": [
        "# DEFINE METHODS FOR PREDICTING BLOOM FOR 2025\n",
        "\n",
        "def extract_historical_feature_sets(df, feature_suffixes):\n",
        "    \"\"\"\n",
        "    Returns a dict where keys are feature suffixes, and values are DF of those suffixes.\n",
        "    \"\"\"\n",
        "    feature_sets = {}\n",
        "    for suffix in feature_suffixes:\n",
        "        historical_features = df[[col for col in df.columns if col.endswith(suffix)]]\n",
        "        feature_sets[suffix] = historical_features\n",
        "    return feature_sets\n",
        "\n",
        "def predict_from_arrays(historical_feature_sets, test_sequences):\n",
        "    \"\"\"\n",
        "    - historical_feature_sets: dict where keys are feature suffixes, and values are DF of those suffixes\n",
        "    - test_sequences: dict where keys are feature suffixes, values are test numpy arrays.\n",
        "        \n",
        "    Returns:\n",
        "        - results: dict with best-matching year, best days_till_bloom index, and distance for each feature type.\n",
        "    \"\"\"\n",
        "    results = {}\n",
        "    \n",
        "    for suffix, test_seq in test_sequences.items():\n",
        "        best_match = None\n",
        "        best_distance = float('inf')\n",
        "        best_days_till_bloom = None\n",
        "\n",
        "        historical_data = historical_feature_sets[suffix]\n",
        "\n",
        "        for year in historical_data.columns:\n",
        "            hist_seq = historical_data[year].values.flatten()\n",
        "                        \n",
        "            # FastDTW over a sliding window\n",
        "            for days_till_bloom in range(len(hist_seq) - len(test_seq) + 1):\n",
        "                window = hist_seq[days_till_bloom: days_till_bloom + len(test_seq)]\n",
        "                distance, _ = fastdtw(window, test_seq, dist=2)\n",
        "                \n",
        "                if distance < best_distance:\n",
        "                    best_distance = distance\n",
        "                    best_match = year\n",
        "                    best_days_till_bloom = days_till_bloom\n",
        "        \n",
        "        results[suffix] = (best_match, best_days_till_bloom, best_distance)\n",
        "        #print(f\"Feature: {suffix}, Best Match: {best_match}, Days_till_bloom: {best_days_till_bloom}, Distance: {best_distance}\")\n",
        "\n",
        "    return results\n",
        "\n",
        "# feature suffixes\n",
        "feature_suffixes = ['_sum_sq', '_sum_log', '_sum_dd32', '_sum_dd50', '_sum_last14', \n",
        "    '_norm_dd_32', '_norm_dd_50','_rolling_freeze', '_rolling_chill', '_rolling_temp_change'\n",
        "]\n",
        "\n",
        "# historical feature sets\n",
        "historical_feature_sets = extract_historical_feature_sets(df, feature_suffixes)"
      ]
    },
    {
      "cell_type": "markdown",
      "metadata": {},
      "source": [
        "Here, the prediction function uses FastDTW to compare vectors of time series. It finds the lowest Euclidean norm (L2) between a given input and a historical data. This slice of temperature input is thought to be \"sliding\" across the time, checking for patterns and attempting to match it to a historical bloom cycle. After completing the computations, it returns the lowest L2 norm and what the implied days_till_bloom is. This can be used to predict where we currently are in the cycle, which intuitively allows us to estimate when it will bloom. This process was used due to the fact that future temperature data would not need to be modeled or predicted.\n"
      ]
    },
    {
      "cell_type": "code",
      "execution_count": null,
      "metadata": {
        "vscode": {
          "languageId": "python"
        }
      },
      "outputs": [],
      "source": [
        "# BUILDING 2025 TEMPERATURE SET DATAFRAME FOR 5 LOCATIONS\n",
        "\n",
        "wdc_weather2025 = pd.read_csv('data/wdc_weather2025.csv')\n",
        "liestal_weather2025 = pd.read_csv('data/liestal_weather2025.csv')\n",
        "kyoto_weather2025 = pd.read_csv('data/kyoto_weather2025.csv')\n",
        "vancouver_weather2025 = pd.read_csv('data/vancouver_weather2025.csv')\n",
        "nyc_weather2025 = pd.read_csv('data/nyc_weather2025.csv')\n",
        "\n",
        "wdc_weather2025['Date'] = pd.to_datetime(wdc_weather2025['Date'])\n",
        "liestal_weather2025['Date'] = pd.to_datetime(liestal_weather2025['Date'])\n",
        "kyoto_weather2025['Date'] = pd.to_datetime(kyoto_weather2025['Date'])\n",
        "vancouver_weather2025['Date'] = pd.to_datetime(vancouver_weather2025['Date'])\n",
        "nyc_weather2025['Date'] = pd.to_datetime(nyc_weather2025['Date'])\n",
        "\n",
        "wdc_weather2025.name = \"Washington DC\"\n",
        "liestal_weather2025.name = \"Liestal\"\n",
        "kyoto_weather2025.name = \"Kyoto\"\n",
        "vancouver_weather2025.name = \"Vancouver\"\n",
        "nyc_weather2025.name = \"NYC\"\n",
        "\n",
        "all_locations = [wdc_weather2025,liestal_weather2025, kyoto_weather2025, vancouver_weather2025, nyc_weather2025]\n"
      ]
    },
    {
      "cell_type": "markdown",
      "metadata": {},
      "source": [
        "This function computes the temperature prediction for all 5 locations:"
      ]
    },
    {
      "cell_type": "code",
      "execution_count": null,
      "metadata": {
        "vscode": {
          "languageId": "python"
        }
      },
      "outputs": [],
      "source": [
        "data = []\n",
        "for loc in all_locations:\n",
        "    temp_2025_dc = loc.sort_values(by='Date', ascending=False)[['Temp_avg']]\n",
        "    temp_2025_dc.columns=['2025_b']\n",
        "    for col in temp_2025_dc.columns:\n",
        "        if col.endswith('_b'):\n",
        "            temp_2025_dc[f'{col}_sum_sq'] = temp_2025_dc[col][::-1].pow(2).rolling(window=21, min_periods=1).sum()[::-1]\n",
        "            temp_2025_dc[f'{col}_sum_log'] = temp_2025_dc[col][::-1].apply(lambda x: np.log(x + 1)).rolling(window=21, min_periods=1).sum()[::-1]\n",
        "            temp_2025_dc[f'{col}_sum_dd32'] = (temp_2025_dc[col][::-1] > 32).rolling(window=21, min_periods=1).sum()[::-1]\n",
        "            temp_2025_dc[f'{col}_sum_dd50'] = (temp_2025_dc[col][::-1] > 50).rolling(window=21, min_periods=1).sum()[::-1]\n",
        "            temp_2025_dc[f'{col}_sum_last14'] = temp_2025_dc[col][::-1].rolling(window=14, min_periods=1).sum()[::-1]\n",
        "            temp_2025_dc[f'{col}_norm_dd_32'] = ((temp_2025_dc[col] > 32).astype(int) * 1 + (temp_2025_dc[col] <= 32).astype(int) * -1).rolling(window=21, min_periods=1).sum()[::-1]\n",
        "            temp_2025_dc[f'{col}_norm_dd_50'] = ((temp_2025_dc[col] > 50).astype(int) * 1 + (temp_2025_dc[col] <= 50).astype(int) * -1).rolling(window=21, min_periods=1).sum()[::-1]\n",
        "            temp_2025_dc[f'{col}_rolling_freeze'] = (temp_2025_dc[col][::-1] < 32).rolling(window=21, min_periods=1).sum()[::-1]\n",
        "            temp_2025_dc[f'{col}_rolling_chill'] = ((temp_2025_dc[col][::-1] >= 32) & (temp_2025_dc[col][::-1] < 50)).rolling(window=21, min_periods=1).sum()[::-1]\n",
        "            temp_2025_dc[f'{col}_rolling_temp_change'] = temp_2025_dc[col][::-1].diff(periods=7)[::-1]\n",
        "    temp_2025_dc = temp_2025_dc.head(50)\n",
        "\n",
        "    all_results = []\n",
        "    intervals = [10,20,30,40]\n",
        "\n",
        "    for interval in intervals:\n",
        "        temp_2025_dc_df = temp_2025_dc.head(interval)\n",
        "\n",
        "        test_sequences = {\n",
        "            '_sum_sq': np.array(temp_2025_dc_df['2025_b_sum_sq']),\n",
        "            '_sum_log': np.array(temp_2025_dc_df['2025_b_sum_log']),\n",
        "            '_sum_dd32': np.array(temp_2025_dc_df['2025_b_sum_dd32']),\n",
        "            '_sum_dd50': np.array(temp_2025_dc_df['2025_b_sum_dd50']),\n",
        "            '_sum_last14': np.array(temp_2025_dc_df['2025_b_sum_last14']),\n",
        "            '_norm_dd_32': np.array(temp_2025_dc_df['2025_b_norm_dd_32']),\n",
        "            '_norm_dd_50': np.array(temp_2025_dc_df['2025_b_norm_dd_50']),\n",
        "            '_rolling_freeze': np.array(temp_2025_dc_df['2025_b_rolling_freeze']),\n",
        "            '_rolling_chill': np.array(temp_2025_dc_df['2025_b_rolling_chill']),\n",
        "            '_rolling_temp_change': np.array(temp_2025_dc_df['2025_b_rolling_temp_change']),\n",
        "\n",
        "        }\n",
        "\n",
        "        all_results.append((interval, predict_from_arrays(historical_feature_sets, test_sequences)))\n",
        "\n",
        "    #all_results\n",
        "    print(\"Results for \" + loc.name)\n",
        "\n",
        "    for result in all_results:\n",
        "        print(result)\n",
        "\n",
        "    arrays = []\n",
        "    for j in range(len(feature_suffixes)):\n",
        "        arrays.append([])\n",
        "\n",
        "    for i in range(4):\n",
        "        for j in range(len(feature_suffixes)):\n",
        "            arrays[j].append(all_results[i][1][feature_suffixes[j]][1])\n",
        "    \n",
        "    data.append((loc.name, arrays))\n",
        "    \n",
        "    print(\"----- ----- -----\")\n"
      ]
    },
    {
      "cell_type": "markdown",
      "metadata": {},
      "source": [
        "After computing the estimated days_till_bloom for differing interval lengths, we can compare the estimated days. There are many outliers in the prediction, and the predictions can be wildly different at times. The chosen dates were picked in a non-rigorous, intuitive approach. While this may not be an ideal method for repeatability, for this specific prediction it might be okay. That's because many of the high variance points are very unlikely; for example, points like 0 or 50 mean that the model thinks the trees are blooming today or in 50 days. We can reason intuitively that neither of these cases are/will happen, based on historical blooms. Thus, the median values we are left with are used to create the prediction and prediction intervals.\n",
        "\n",
        "\n",
        "Table for Washington DC\n",
        "\n",
        "- columns represent the size of the testing interval.\n",
        "- Values represent the predicted days_till_bloom \n",
        "\n",
        "\n",
        "| Feature     | 10      | 20    | 30    |  40   |\n",
        "|------------|--------:|--------:|--------:|--------:|\n",
        "| _sum_sq    | 24     | 37     | 34     | 32     |\n",
        "| _sum_log   | 41     | 33     | 22     | 21     |\n",
        "| _sum_dd32  |  0     |  6     |  1     | 40     |\n",
        "| _sum_dd50  | 31     | 17     | 36     | 18     |\n",
        "\n",
        "...and more values. \\n\n",
        "\n",
        "\n",
        "In the end, the final predictions for bloom dates (day of year) are:\n",
        "\n",
        "\n",
        "| location      | prediction      | lower       | upper     |\n",
        "|--------------|----------------:|------------:|------------:|\n",
        "| washingtondc |             88  |         84  |         91  |\n",
        "| liestal      |             85  |         83  |         90  |\n",
        "| kyoto        |             91  |         88  |         97  |\n",
        "| vancouver    |             88  |         84  |         94  |\n",
        "| newyorkcity  |             95  |         93  |         97  |\n",
        "\n",
        "\n",
        "\n",
        "# Limitations\n",
        "\n",
        "While the initial results seem like they have potential, it is important to mention the many limitations of this modeling.\n",
        "\n",
        "- Data set only trained on Washington DC temperatures; may not be comparable to other countries\n",
        "- Training on more years past 1990\n",
        "- Differing cycle lengths may impact prediction\n",
        "- Low historical training data for places like NYC \n",
        "- Different breeds of cherry blossoms might have different cycles and cycle patterns\n",
        "- Not accounting for special impactful events (storms, dry spells, etc)\n",
        "- Likely better results using other variables alongside temperature (emissions, sunlight, rainfall)\n",
        "- Predictions and predictions intervals not chosen using empirical and repeatable method \n"
      ]
    }
  ],
  "metadata": {
    "kernelspec": {
      "display_name": "Python 3 (ipykernel)",
      "language": "python",
      "name": "python3",
      "path": "/Library/Frameworks/Python.framework/Versions/3.10/share/jupyter/kernels/python3"
    }
  },
  "nbformat": 4,
  "nbformat_minor": 4
}
